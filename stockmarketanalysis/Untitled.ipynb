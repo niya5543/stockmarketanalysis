{
 "cells": [
  {
   "cell_type": "code",
   "execution_count": null,
   "id": "e541ad5f-5884-43ad-882c-47920d6d730e",
   "metadata": {},
   "outputs": [],
   "source": [
    "import pandas as pd\n",
    "import matplotlib.pyplot as plt\n",
    "import seaborn as sns\n",
    "\n",
    "# Load the dataset\n",
    "file_path = 'path_to_your_file/stocks.csv'  # Change this to your actual file path\n",
    "stocks_df = pd.read_csv(file_path)\n",
    "\n",
    "# Convert Date to datetime format\n",
    "stocks_df['Date'] = pd.to_datetime(stocks_df['Date'])\n",
    "\n",
    "# 1. Checking for missing data\n",
    "missing_data = stocks_df.isnull().sum()\n",
    "print(\"Missing Data:\\n\", missing_data)\n",
    "\n",
    "# 2. Statistical summary of the dataset\n",
    "print(\"\\nStatistical Summary:\\n\", stocks_df.describe())\n",
    "\n",
    "# 3. Plotting stock prices over time for Open, Close, High, Low\n",
    "plt.figure(figsize=(10, 6))\n",
    "plt.plot(stocks_df['Date'], stocks_df['Open'], label='Open')\n",
    "plt.plot(stocks_df['Date'], stocks_df['Close'], label='Close')\n",
    "plt.plot(stocks_df['Date'], stocks_df['High'], label='High')\n",
    "plt.plot(stocks_df['Date'], stocks_df['Low'], label='Low')\n",
    "plt.title('Stock Prices (Open, Close, High, Low) Over Time')\n",
    "plt.xlabel('Date')\n",
    "plt.ylabel('Price')\n",
    "plt.legend()\n",
    "plt.grid(True)\n",
    "plt.xticks(rotation=45)\n",
    "plt.tight_layout()\n",
    "plt.savefig('stock_prices_over_time.png')  # Save plot as PNG\n",
    "\n",
    "# 4. Distribution of stock volume\n",
    "plt.figure(figsize=(10, 6))\n",
    "sns.histplot(stocks_df['Volume'], bins=30, kde=True)\n",
    "plt.title('Distribution of Stock Volume')\n",
    "plt.xlabel('Volume')\n",
    "plt.ylabel('Frequency')\n",
    "plt.grid(True)\n",
    "plt.tight_layout()\n",
    "plt.savefig('stock_volume_distribution.png')  # Save plot as PNG\n",
    "\n",
    "# 5. Correlation heatmap\n",
    "plt.figure(figsize=(10, 6))\n",
    "corr = stocks_df[['Open', 'High', 'Low', 'Close', 'Adj Close', 'Volume']].corr()\n",
    "sns.heatmap(corr, annot=True, cmap='coolwarm', linewidths=0.5)\n",
    "plt.title('Correlation Heatmap')\n",
    "plt.tight_layout()\n",
    "plt.savefig('correlation_heatmap.png')  # Save plot as PNG\n",
    "\n",
    "plt.show()\n"
   ]
  },
  {
   "cell_type": "code",
   "execution_count": null,
   "id": "eec351f2-1044-4c32-9458-224ebe7d848d",
   "metadata": {},
   "outputs": [],
   "source": []
  },
  {
   "cell_type": "code",
   "execution_count": null,
   "id": "aa29a359-32fc-47e2-9c28-464b31b0afe5",
   "metadata": {},
   "outputs": [],
   "source": []
  },
  {
   "cell_type": "code",
   "execution_count": null,
   "id": "05220f2c-3993-4623-a77c-b687544fee10",
   "metadata": {},
   "outputs": [],
   "source": []
  }
 ],
 "metadata": {
  "kernelspec": {
   "display_name": "Python 3 (ipykernel)",
   "language": "python",
   "name": "python3"
  },
  "language_info": {
   "codemirror_mode": {
    "name": "ipython",
    "version": 3
   },
   "file_extension": ".py",
   "mimetype": "text/x-python",
   "name": "python",
   "nbconvert_exporter": "python",
   "pygments_lexer": "ipython3",
   "version": "3.8.4rc1"
  }
 },
 "nbformat": 4,
 "nbformat_minor": 5
}
