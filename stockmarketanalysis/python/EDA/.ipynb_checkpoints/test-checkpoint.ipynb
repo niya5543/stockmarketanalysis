{
 "cells": [
  {
   "cell_type": "code",
   "execution_count": 4,
   "metadata": {},
   "outputs": [
    {
     "ename": "ImportError",
     "evalue": "No module named seaborn",
     "output_type": "error",
     "traceback": [
      "\u001b[0;31m\u001b[0m",
      "\u001b[0;31mImportError\u001b[0mTraceback (most recent call last)",
      "\u001b[0;32m<ipython-input-4-df6537595e85>\u001b[0m in \u001b[0;36m<module>\u001b[0;34m()\u001b[0m\n\u001b[1;32m      1\u001b[0m \u001b[0;32mimport\u001b[0m \u001b[0mpandas\u001b[0m \u001b[0;32mas\u001b[0m \u001b[0mpd\u001b[0m\u001b[0;34m\u001b[0m\u001b[0m\n\u001b[1;32m      2\u001b[0m \u001b[0;32mimport\u001b[0m \u001b[0mmatplotlib\u001b[0m\u001b[0;34m.\u001b[0m\u001b[0mpyplot\u001b[0m \u001b[0;32mas\u001b[0m \u001b[0mplt\u001b[0m\u001b[0;34m\u001b[0m\u001b[0m\n\u001b[0;32m----> 3\u001b[0;31m \u001b[0;32mimport\u001b[0m \u001b[0mseaborn\u001b[0m \u001b[0;32mas\u001b[0m \u001b[0msns\u001b[0m\u001b[0;34m\u001b[0m\u001b[0m\n\u001b[0m\u001b[1;32m      4\u001b[0m \u001b[0;34m\u001b[0m\u001b[0m\n\u001b[1;32m      5\u001b[0m \u001b[0;31m# Load the dataset\u001b[0m\u001b[0;34m\u001b[0m\u001b[0;34m\u001b[0m\u001b[0m\n",
      "\u001b[0;31mImportError\u001b[0m: No module named seaborn"
     ]
    }
   ],
   "source": [
    "import pandas as pd\n",
    "import matplotlib.pyplot as plt\n",
    "import seaborn as sns\n",
    "\n",
    "# Load the dataset\n",
    "file_path = 'path_to_your_file/stocks.csv'  # Change this to your actual file path\n",
    "stocks_df = pd.read_csv(file_path)\n",
    "\n",
    "# Convert Date to datetime format\n",
    "stocks_df['Date'] = pd.to_datetime(stocks_df['Date'])\n",
    "\n",
    "# 1. Checking for missing data\n",
    "missing_data = stocks_df.isnull().sum()\n",
    "print(\"Missing Data:\\n\", missing_data)\n",
    "\n",
    "# 2. Statistical summary of the dataset\n",
    "print(\"\\nStatistical Summary:\\n\", stocks_df.describe())\n",
    "\n",
    "# 3. Plotting stock prices over time for Open, Close, High, Low\n",
    "plt.figure(figsize=(10, 6))\n",
    "plt.plot(stocks_df['Date'], stocks_df['Open'], label='Open')\n",
    "plt.plot(stocks_df['Date'], stocks_df['Close'], label='Close')\n",
    "plt.plot(stocks_df['Date'], stocks_df['High'], label='High')\n",
    "plt.plot(stocks_df['Date'], stocks_df['Low'], label='Low')\n",
    "plt.title('Stock Prices (Open, Close, High, Low) Over Time')\n",
    "plt.xlabel('Date')\n",
    "plt.ylabel('Price')\n",
    "plt.legend()\n",
    "plt.grid(True)\n",
    "plt.xticks(rotation=45)\n",
    "plt.tight_layout()\n",
    "plt.savefig('stock_prices_over_time.png')  # Save plot as PNG\n",
    "\n",
    "# 4. Distribution of stock volume\n",
    "plt.figure(figsize=(10, 6))\n",
    "sns.histplot(stocks_df['Volume'], bins=30, kde=True)\n",
    "plt.title('Distribution of Stock Volume')\n",
    "plt.xlabel('Volume')\n",
    "plt.ylabel('Frequency')\n",
    "plt.grid(True)\n",
    "plt.tight_layout()\n",
    "plt.savefig('stock_volume_distribution.png')  # Save plot as PNG\n",
    "\n",
    "# 5. Correlation heatmap\n",
    "plt.figure(figsize=(10, 6))\n",
    "corr = stocks_df[['Open', 'High', 'Low', 'Close', 'Adj Close', 'Volume']].corr()\n",
    "sns.heatmap(corr, annot=True, cmap='coolwarm', linewidths=0.5)\n",
    "plt.title('Correlation Heatmap')\n",
    "plt.tight_layout()\n",
    "plt.savefig('correlation_heatmap.png')  # Save plot as PNG\n",
    "\n",
    "plt.show()\n"
   ]
  },
  {
   "cell_type": "code",
   "execution_count": 2,
   "metadata": {},
   "outputs": [
    {
     "name": "stdout",
     "output_type": "stream",
     "text": [
      "Some text\n"
     ]
    }
   ],
   "source": [
    "print(\"Some text\")\n"
   ]
  },
  {
   "cell_type": "code",
   "execution_count": null,
   "metadata": {},
   "outputs": [],
   "source": [
    "import \n",
    "\n",
    "\n",
    "\n",
    "\n",
    "(sys.version)\n"
   ]
  }
 ],
 "metadata": {
  "kernelspec": {
   "display_name": "Python 3",
   "language": "python",
   "name": "python3"
  },
  "language_info": {
   "codemirror_mode": {
    "name": "ipython",
    "version": 2
   },
   "file_extension": ".py",
   "mimetype": "text/x-python",
   "name": "python",
   "nbconvert_exporter": "python",
   "pygments_lexer": "ipython2",
   "version": "2.7.16"
  }
 },
 "nbformat": 4,
 "nbformat_minor": 2
}
